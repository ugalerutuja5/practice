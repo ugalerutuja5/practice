{
 "cells": [
  {
   "cell_type": "code",
   "execution_count": 1,
   "id": "15abfe52",
   "metadata": {},
   "outputs": [],
   "source": [
    "# Programming is a powerful tool you can use to solve all kinds of problems.\n"
   ]
  },
  {
   "cell_type": "code",
   "execution_count": 3,
   "id": "3ba77052",
   "metadata": {},
   "outputs": [
    {
     "name": "stdout",
     "output_type": "stream",
     "text": [
      "Hello World\n"
     ]
    }
   ],
   "source": [
    "# print hello word statement\n",
    "print('Hello World')"
   ]
  },
  {
   "cell_type": "code",
   "execution_count": 4,
   "id": "0ad523d0",
   "metadata": {},
   "outputs": [
    {
     "name": "stdout",
     "output_type": "stream",
     "text": [
      "My Name is Rutuja\n",
      " I am From Nashik\n"
     ]
    }
   ],
   "source": [
    "# two line seperated using\\n\n",
    "print(\"My Name is Rutuja\\n I am From Nashik\")"
   ]
  },
  {
   "cell_type": "code",
   "execution_count": 5,
   "id": "3cc37f1f",
   "metadata": {},
   "outputs": [
    {
     "name": "stdout",
     "output_type": "stream",
     "text": [
      "This is the strangest way to print over multiple lines i know\n"
     ]
    }
   ],
   "source": [
    "# you can also write triple quote string\n",
    "print(\"\"\"This is the strangest way to print over multiple lines i know\"\"\")"
   ]
  },
  {
   "cell_type": "code",
   "execution_count": 15,
   "id": "4a39bd67",
   "metadata": {},
   "outputs": [
    {
     "name": "stdout",
     "output_type": "stream",
     "text": [
      "here is a string Here is more\n"
     ]
    }
   ],
   "source": [
    "# add two string\n",
    "print(\"here is a string \" + \"Here is more\")"
   ]
  },
  {
   "cell_type": "code",
   "execution_count": 16,
   "id": "e7adfb09",
   "metadata": {},
   "outputs": [
    {
     "name": "stdout",
     "output_type": "stream",
     "text": [
      "here is a double quate \", here is a single quate'.\n"
     ]
    }
   ],
   "source": [
    "# trinting method how single and double quate use\n",
    "print('here is a double quate \",'+ \" here is a single quate'.\")"
   ]
  },
  {
   "cell_type": "code",
   "execution_count": 14,
   "id": "13cb1000",
   "metadata": {},
   "outputs": [
    {
     "name": "stdout",
     "output_type": "stream",
     "text": [
      "or you can just do this \" does that work\n"
     ]
    }
   ],
   "source": [
    "# code method use of \\\n",
    "print(\"or you can just do this \\\" does that work\")"
   ]
  },
  {
   "cell_type": "code",
   "execution_count": 17,
   "id": "6450bf73",
   "metadata": {},
   "outputs": [
    {
     "name": "stdout",
     "output_type": "stream",
     "text": [
      "can i print just a \\ on the screen\n"
     ]
    }
   ],
   "source": [
    "print(\"can i print just a \\ on the screen\")"
   ]
  },
  {
   "cell_type": "code",
   "execution_count": 20,
   "id": "3282d9f8",
   "metadata": {},
   "outputs": [
    {
     "name": "stdout",
     "output_type": "stream",
     "text": [
      "But what if i want \\news\n"
     ]
    }
   ],
   "source": [
    "# i am inserting a \\\\ so the \\ appers correctly in the string\n",
    "print(\"But what if i want \\\\news\") "
   ]
  },
  {
   "cell_type": "code",
   "execution_count": 22,
   "id": "3e50df5d",
   "metadata": {},
   "outputs": [
    {
     "name": "stdout",
     "output_type": "stream",
     "text": [
      "It's a small world\n"
     ]
    }
   ],
   "source": [
    "print('It\\'s a small world')"
   ]
  },
  {
   "cell_type": "code",
   "execution_count": 24,
   "id": "90e12ae0",
   "metadata": {},
   "outputs": [],
   "source": [
    "# Exercise print a poem"
   ]
  },
  {
   "cell_type": "code",
   "execution_count": 26,
   "id": "5859ab81",
   "metadata": {},
   "outputs": [
    {
     "name": "stdout",
     "output_type": "stream",
     "text": [
      "There once was a movie star icon\n",
      " who prefferred to sleep with the light on.\n",
      " They learned how to code\n",
      " a device that sure glowed\n",
      " and lit up the night using python!\n"
     ]
    }
   ],
   "source": [
    "print(\"There once was a movie star icon\\n who prefferred to sleep with the light on.\\n They learned how to code\\n a device that sure glowed\\n and lit up the night using python!\")"
   ]
  },
  {
   "cell_type": "code",
   "execution_count": 27,
   "id": "2ee91169",
   "metadata": {},
   "outputs": [],
   "source": [
    " # String Variable"
   ]
  },
  {
   "cell_type": "code",
   "execution_count": 34,
   "id": "d2eb2e4f",
   "metadata": {},
   "outputs": [
    {
     "name": "stdout",
     "output_type": "stream",
     "text": [
      "What is Your Name? Rutuja\n"
     ]
    }
   ],
   "source": [
    "name = input(\"What is Your Name? \")"
   ]
  },
  {
   "cell_type": "code",
   "execution_count": 35,
   "id": "1376ff59",
   "metadata": {},
   "outputs": [
    {
     "name": "stdout",
     "output_type": "stream",
     "text": [
      "Rutuja\n"
     ]
    }
   ],
   "source": [
    "# here name is variable\n",
    "print(name)"
   ]
  },
  {
   "cell_type": "code",
   "execution_count": 36,
   "id": "3b38e21e",
   "metadata": {},
   "outputs": [],
   "source": [
    "name1 = \"Mary\""
   ]
  },
  {
   "cell_type": "code",
   "execution_count": 38,
   "id": "7f3ca29a",
   "metadata": {},
   "outputs": [
    {
     "name": "stdout",
     "output_type": "stream",
     "text": [
      "Mary\n"
     ]
    }
   ],
   "source": [
    "print(name1)"
   ]
  },
  {
   "cell_type": "code",
   "execution_count": null,
   "id": "2de1c77f",
   "metadata": {},
   "outputs": [],
   "source": [
    "# Variables rule and working with variables.\n",
    "# Rules\n",
    " # 1)  "
   ]
  },
  {
   "cell_type": "code",
   "execution_count": 1,
   "id": "1956e5a7",
   "metadata": {},
   "outputs": [
    {
     "data": {
      "text/plain": [
       "{1.0: 'V1', 2.0: 'V2', 3.0: 'V3'}"
      ]
     },
     "execution_count": 1,
     "metadata": {},
     "output_type": "execute_result"
    }
   ],
   "source": [
    "dic1 = {1.0:'V1', 2.0:'V2', 3.0:'V3'}\n",
    "dic1"
   ]
  },
  {
   "cell_type": "code",
   "execution_count": 2,
   "id": "6af4d4e1",
   "metadata": {},
   "outputs": [
    {
     "data": {
      "text/plain": [
       "{2: 'V1', 3.0: 'V2', 'AB': 'V3'}"
      ]
     },
     "execution_count": 2,
     "metadata": {},
     "output_type": "execute_result"
    }
   ],
   "source": [
    "dic2 = {1+1:'V1', 3/1:'V2','A'+'B':'V3'}\n",
    "dic2"
   ]
  },
  {
   "cell_type": "code",
   "execution_count": 3,
   "id": "3bcdd616",
   "metadata": {},
   "outputs": [
    {
     "data": {
      "text/plain": [
       "{(1, 2): 'V1', (2, 3): 'V2', (3, 4): 'v3'}"
      ]
     },
     "execution_count": 3,
     "metadata": {},
     "output_type": "execute_result"
    }
   ],
   "source": [
    "dic3 = {(1,2): 'V1',(2,3):'V2', (3,4): \"v3\"}\n",
    "dic3"
   ]
  },
  {
   "cell_type": "code",
   "execution_count": 4,
   "id": "14858e30",
   "metadata": {},
   "outputs": [
    {
     "ename": "TypeError",
     "evalue": "unhashable type: 'list'",
     "output_type": "error",
     "traceback": [
      "\u001b[1;31m---------------------------------------------------------------------------\u001b[0m",
      "\u001b[1;31mTypeError\u001b[0m                                 Traceback (most recent call last)",
      "\u001b[1;32m~\\AppData\\Local\\Temp/ipykernel_8252/2298425743.py\u001b[0m in \u001b[0;36m<module>\u001b[1;34m\u001b[0m\n\u001b[1;32m----> 1\u001b[1;33m \u001b[0mdic\u001b[0m \u001b[1;33m=\u001b[0m \u001b[1;33m{\u001b[0m\u001b[1;33m[\u001b[0m\u001b[1;36m1\u001b[0m\u001b[1;33m,\u001b[0m\u001b[1;36m2\u001b[0m\u001b[1;33m,\u001b[0m\u001b[1;36m4\u001b[0m\u001b[1;33m]\u001b[0m\u001b[1;33m:\u001b[0m\u001b[1;36m5\u001b[0m\u001b[1;33m}\u001b[0m\u001b[1;33m\u001b[0m\u001b[1;33m\u001b[0m\u001b[0m\n\u001b[0m",
      "\u001b[1;31mTypeError\u001b[0m: unhashable type: 'list'"
     ]
    }
   ],
   "source": [
    "dic = {[1,2,4]:5}"
   ]
  },
  {
   "cell_type": "code",
   "execution_count": 25,
   "id": "c8596707",
   "metadata": {},
   "outputs": [
    {
     "name": "stdout",
     "output_type": "stream",
     "text": [
      "4\n",
      "6\n"
     ]
    }
   ],
   "source": [
    "l = [1,4,6] \n",
    "# write program for print even\n",
    "for i in l:\n",
    "    if (i%2) == 0:print(i)"
   ]
  },
  {
   "cell_type": "code",
   "execution_count": 10,
   "id": "164024c5",
   "metadata": {},
   "outputs": [
    {
     "data": {
      "text/plain": [
       "[4, 6]"
      ]
     },
     "execution_count": 10,
     "metadata": {},
     "output_type": "execute_result"
    }
   ],
   "source": [
    "l = [1,4,6]\n",
    "x = [i for i in l if (i%2) == 0]\n",
    "x"
   ]
  },
  {
   "cell_type": "code",
   "execution_count": 17,
   "id": "5935edbc",
   "metadata": {},
   "outputs": [
    {
     "name": "stdout",
     "output_type": "stream",
     "text": [
      "36.0\n",
      "18.0\n",
      "9.0\n"
     ]
    }
   ],
   "source": [
    "n = 72\n",
    "while n%2 == 0:\n",
    "    n = n/2\n",
    "    print(n)"
   ]
  },
  {
   "cell_type": "code",
   "execution_count": 18,
   "id": "d158a371",
   "metadata": {},
   "outputs": [
    {
     "name": "stdout",
     "output_type": "stream",
     "text": [
      "9.0\n"
     ]
    }
   ],
   "source": [
    "n = 72\n",
    "while True:\n",
    "    n = n/2\n",
    "    if n%2!=0:\n",
    "        print(n)\n",
    "        break\n"
   ]
  },
  {
   "cell_type": "code",
   "execution_count": 19,
   "id": "9daced88",
   "metadata": {},
   "outputs": [],
   "source": [
    "l = [64,128,73,25,0,-3,-74]\n",
    "n = 165\n",
    "# find all numbers in l greater than n.\n",
    "i = 0\n",
    "while i < len(l):\n",
    "    if l[i] > n:\n",
    "        print(l[i])\n",
    "    i = i+1\n"
   ]
  },
  {
   "cell_type": "code",
   "execution_count": 20,
   "id": "254610e8",
   "metadata": {},
   "outputs": [
    {
     "name": "stdout",
     "output_type": "stream",
     "text": [
      "1 2 3 4 5 7 8 9 10 "
     ]
    }
   ],
   "source": [
    "for i in range(1, 11):\n",
    " \n",
    "    # If i is equals to 6,\n",
    "    # continue to next iteration\n",
    "    # without printing\n",
    "    if i == 6:\n",
    "        continue\n",
    "    else:\n",
    "        # otherwise print the value\n",
    "        # of i\n",
    "        print(i, end=\" \")\n"
   ]
  },
  {
   "cell_type": "code",
   "execution_count": 24,
   "id": "7484d9a6",
   "metadata": {},
   "outputs": [
    {
     "name": "stdout",
     "output_type": "stream",
     "text": [
      "r\n",
      "o\n",
      "g\n",
      "r\n",
      "a\n",
      "m\n",
      "m\n",
      "i\n",
      "n\n",
      "g\n"
     ]
    }
   ],
   "source": [
    "a = \"programming\"\n",
    "for i in a:\n",
    "    if i ==\"p\":\n",
    "        continue\n",
    "    else:\n",
    "        print(i)\n"
   ]
  },
  {
   "cell_type": "code",
   "execution_count": 26,
   "id": "142bc17d",
   "metadata": {},
   "outputs": [],
   "source": [
    "# Recursive function\n",
    "def recursive_factorial(n):  \n",
    "    if n == 1:  \n",
    "        return n  \n",
    "    else:  \n",
    "        return n * recursive_factorial(n-1)\n"
   ]
  },
  {
   "cell_type": "code",
   "execution_count": 28,
   "id": "d94314f2",
   "metadata": {},
   "outputs": [
    {
     "ename": "IndentationError",
     "evalue": "expected an indented block (Temp/ipykernel_8252/3447133634.py, line 7)",
     "output_type": "error",
     "traceback": [
      "\u001b[1;36m  File \u001b[1;32m\"C:\\Users\\DELL\\AppData\\Local\\Temp/ipykernel_8252/3447133634.py\"\u001b[1;36m, line \u001b[1;32m7\u001b[0m\n\u001b[1;33m    temp = l[i];\u001b[0m\n\u001b[1;37m                ^\u001b[0m\n\u001b[1;31mIndentationError\u001b[0m\u001b[1;31m:\u001b[0m expected an indented block\n"
     ]
    }
   ],
   "source": [
    "l=[64,128,73,25,0,-3,-74]\n",
    "i=0\n",
    "j=1\n",
    "l1=[]\n",
    "while(i<=len(l)-1):\n",
    "    if(l[i] <= l[j]):\n",
    "temp = l[i];\n",
    "    l[i] = l[j];\n",
    "    l[j] = temp;\n",
    "    j=j+1  \n",
    "    i=i+1\n",
    "  \n",
    "\n",
    "print(l)\n"
   ]
  },
  {
   "cell_type": "code",
   "execution_count": 1,
   "id": "0a1515db",
   "metadata": {},
   "outputs": [
    {
     "ename": "SyntaxError",
     "evalue": "invalid syntax (Temp/ipykernel_16108/1696637282.py, line 40)",
     "output_type": "error",
     "traceback": [
      "\u001b[1;36m  File \u001b[1;32m\"C:\\Users\\DELL\\AppData\\Local\\Temp/ipykernel_16108/1696637282.py\"\u001b[1;36m, line \u001b[1;32m40\u001b[0m\n\u001b[1;33m    ID = int(in\u001b[0m\n\u001b[1;37m             ^\u001b[0m\n\u001b[1;31mSyntaxError\u001b[0m\u001b[1;31m:\u001b[0m invalid syntax\n"
     ]
    }
   ],
   "source": [
    "class Book:\n",
    "    def __init__(self,pages,price,author,ID,title):\n",
    "        self.pages = pages\n",
    "        self.price = price\n",
    "        self.author = author\n",
    "        self.ID =ID\n",
    "        self.title = title\n",
    "class BookStore:\n",
    "    def __init__(self,objlist):\n",
    "        self.objlist = objlist\n",
    "    def findMinimumBookByid(self):\n",
    "        lis1 = []\n",
    "        for i in self.objlist:\n",
    "            lis1.append(i.ID)\n",
    "        lis1.sort()\n",
    "        for j in self.objlist:\n",
    "            if lis1[0]==j.ID:\n",
    "                print(j.pages)\n",
    "                print(j.price)\n",
    "                print(j.author)\n",
    "                print(j.ID)\n",
    "                print(j.title)\n",
    "        if lis1==None:\n",
    "            return None\n",
    "    def sortBookByid(self):\n",
    "        lis2 = []\n",
    "        for j in self.objlist:\n",
    "            lis2.append(j.ID)\n",
    "        lis2.sort()\n",
    "        for i in lis2:\n",
    "            print(i)\n",
    "        if lis2 == None:\n",
    "            return None\n",
    "n = int(input())\n",
    "objlist= []\n",
    "for i in range (n):\n",
    "    pages = int(input())\n",
    "    price = int(input())\n",
    "    author = input()\n",
    "    ID = int(in\n"
   ]
  },
  {
   "cell_type": "code",
   "execution_count": 13,
   "id": "bf9fe3e2",
   "metadata": {},
   "outputs": [],
   "source": [
    "import numpy as np"
   ]
  },
  {
   "cell_type": "code",
   "execution_count": 18,
   "id": "06b10839",
   "metadata": {},
   "outputs": [
    {
     "ename": "TypeError",
     "evalue": "array() takes from 1 to 2 positional arguments but 3 were given",
     "output_type": "error",
     "traceback": [
      "\u001b[1;31m---------------------------------------------------------------------------\u001b[0m",
      "\u001b[1;31mTypeError\u001b[0m                                 Traceback (most recent call last)",
      "\u001b[1;32m~\\AppData\\Local\\Temp/ipykernel_16108/1547363257.py\u001b[0m in \u001b[0;36m<module>\u001b[1;34m\u001b[0m\n\u001b[1;32m----> 1\u001b[1;33m \u001b[0mA\u001b[0m \u001b[1;33m=\u001b[0m \u001b[0mnp\u001b[0m\u001b[1;33m.\u001b[0m\u001b[0marray\u001b[0m\u001b[1;33m(\u001b[0m\u001b[1;33m[\u001b[0m\u001b[1;36m1\u001b[0m\u001b[1;33m,\u001b[0m\u001b[1;36m3\u001b[0m\u001b[1;33m,\u001b[0m\u001b[1;36m5\u001b[0m\u001b[1;33m]\u001b[0m\u001b[1;33m,\u001b[0m \u001b[1;33m[\u001b[0m\u001b[1;36m3\u001b[0m\u001b[1;33m,\u001b[0m\u001b[1;36m4\u001b[0m\u001b[1;33m,\u001b[0m\u001b[1;36m6\u001b[0m\u001b[1;33m]\u001b[0m\u001b[1;33m,\u001b[0m \u001b[1;33m[\u001b[0m\u001b[1;36m6\u001b[0m\u001b[1;33m,\u001b[0m\u001b[1;36m7\u001b[0m\u001b[1;33m,\u001b[0m\u001b[1;36m9\u001b[0m\u001b[1;33m]\u001b[0m\u001b[1;33m)\u001b[0m\u001b[1;33m\u001b[0m\u001b[1;33m\u001b[0m\u001b[0m\n\u001b[0m\u001b[0;32m      2\u001b[0m \u001b[0mA\u001b[0m\u001b[1;33m\u001b[0m\u001b[1;33m\u001b[0m\u001b[0m\n",
      "\u001b[1;31mTypeError\u001b[0m: array() takes from 1 to 2 positional arguments but 3 were given"
     ]
    }
   ],
   "source": [
    "A = np.array([1,3,5], [3,4,6], [6,7,9])\n",
    "A"
   ]
  },
  {
   "cell_type": "code",
   "execution_count": 8,
   "id": "d78d94d5",
   "metadata": {},
   "outputs": [
    {
     "data": {
      "text/plain": [
       "(3,)"
      ]
     },
     "execution_count": 8,
     "metadata": {},
     "output_type": "execute_result"
    }
   ],
   "source": [
    "A.shape"
   ]
  },
  {
   "cell_type": "code",
   "execution_count": 9,
   "id": "bcc60d4d",
   "metadata": {},
   "outputs": [],
   "source": [
    "A.shape = (1,3)"
   ]
  },
  {
   "cell_type": "code",
   "execution_count": 10,
   "id": "cce75c93",
   "metadata": {},
   "outputs": [
    {
     "data": {
      "text/plain": [
       "array([[1, 3, 5]])"
      ]
     },
     "execution_count": 10,
     "metadata": {},
     "output_type": "execute_result"
    }
   ],
   "source": [
    "A"
   ]
  },
  {
   "cell_type": "code",
   "execution_count": 11,
   "id": "91f75726",
   "metadata": {},
   "outputs": [
    {
     "data": {
      "text/plain": [
       "array([[1, 3, 5]])"
      ]
     },
     "execution_count": 11,
     "metadata": {},
     "output_type": "execute_result"
    }
   ],
   "source": [
    "A.reshape(-1,3)"
   ]
  },
  {
   "cell_type": "code",
   "execution_count": 22,
   "id": "fc42c3d0",
   "metadata": {},
   "outputs": [
    {
     "data": {
      "text/plain": [
       "array([[1],\n",
       "       [2],\n",
       "       [3],\n",
       "       [4],\n",
       "       [5],\n",
       "       [6]])"
      ]
     },
     "execution_count": 22,
     "metadata": {},
     "output_type": "execute_result"
    }
   ],
   "source": [
    "A = np.array([[1],\n",
    "       [2],\n",
    "       [3],\n",
    "       [4],\n",
    "       [5],\n",
    "       [6]])\n",
    "A"
   ]
  },
  {
   "cell_type": "code",
   "execution_count": 23,
   "id": "7bc2d4ce",
   "metadata": {},
   "outputs": [
    {
     "data": {
      "text/plain": [
       "array([[1, 2, 3],\n",
       "       [4, 5, 6]])"
      ]
     },
     "execution_count": 23,
     "metadata": {},
     "output_type": "execute_result"
    }
   ],
   "source": [
    "A.reshape(-1,3)"
   ]
  },
  {
   "cell_type": "code",
   "execution_count": 26,
   "id": "c53db8dd",
   "metadata": {},
   "outputs": [
    {
     "data": {
      "text/plain": [
       "array([0., 0., 0., 0.])"
      ]
     },
     "execution_count": 26,
     "metadata": {},
     "output_type": "execute_result"
    }
   ],
   "source": [
    "np.zeros(4)"
   ]
  },
  {
   "cell_type": "code",
   "execution_count": 32,
   "id": "34b31973",
   "metadata": {},
   "outputs": [
    {
     "data": {
      "text/plain": [
       "array([[0., 0., 0.],\n",
       "       [0., 0., 0.],\n",
       "       [0., 0., 0.],\n",
       "       [0., 0., 0.]])"
      ]
     },
     "execution_count": 32,
     "metadata": {},
     "output_type": "execute_result"
    }
   ],
   "source": [
    "np.zeros((4,3))"
   ]
  },
  {
   "cell_type": "code",
   "execution_count": 38,
   "id": "cd523b5d",
   "metadata": {},
   "outputs": [
    {
     "data": {
      "text/plain": [
       "array([[1, 2, 3, 2],\n",
       "       [2, 3, 4, 5],\n",
       "       [4, 5, 7, 5],\n",
       "       [6, 7, 8, 9]])"
      ]
     },
     "execution_count": 38,
     "metadata": {},
     "output_type": "execute_result"
    }
   ],
   "source": [
    "A = np.array([[1,2,3,2],[2,3,4,5],[4,5,7,5],[6,7,8,9]])\n",
    "A\n"
   ]
  },
  {
   "cell_type": "code",
   "execution_count": 39,
   "id": "e23343ca",
   "metadata": {},
   "outputs": [
    {
     "name": "stderr",
     "output_type": "stream",
     "text": [
      "C:\\Users\\DELL\\AppData\\Local\\Temp/ipykernel_16108/3667089356.py:1: VisibleDeprecationWarning: Creating an ndarray from ragged nested sequences (which is a list-or-tuple of lists-or-tuples-or ndarrays with different lengths or shapes) is deprecated. If you meant to do this, you must specify 'dtype=object' when creating the ndarray.\n",
      "  A[[1,2],[[2,3],1]]\n"
     ]
    },
    {
     "ename": "IndexError",
     "evalue": "only integers, slices (`:`), ellipsis (`...`), numpy.newaxis (`None`) and integer or boolean arrays are valid indices",
     "output_type": "error",
     "traceback": [
      "\u001b[1;31m---------------------------------------------------------------------------\u001b[0m",
      "\u001b[1;31mIndexError\u001b[0m                                Traceback (most recent call last)",
      "\u001b[1;32m~\\AppData\\Local\\Temp/ipykernel_16108/3667089356.py\u001b[0m in \u001b[0;36m<module>\u001b[1;34m\u001b[0m\n\u001b[1;32m----> 1\u001b[1;33m \u001b[0mA\u001b[0m\u001b[1;33m[\u001b[0m\u001b[1;33m[\u001b[0m\u001b[1;36m1\u001b[0m\u001b[1;33m,\u001b[0m\u001b[1;36m2\u001b[0m\u001b[1;33m]\u001b[0m\u001b[1;33m,\u001b[0m\u001b[1;33m[\u001b[0m\u001b[1;33m[\u001b[0m\u001b[1;36m2\u001b[0m\u001b[1;33m,\u001b[0m\u001b[1;36m3\u001b[0m\u001b[1;33m]\u001b[0m\u001b[1;33m,\u001b[0m\u001b[1;36m1\u001b[0m\u001b[1;33m]\u001b[0m\u001b[1;33m]\u001b[0m\u001b[1;33m\u001b[0m\u001b[1;33m\u001b[0m\u001b[0m\n\u001b[0m",
      "\u001b[1;31mIndexError\u001b[0m: only integers, slices (`:`), ellipsis (`...`), numpy.newaxis (`None`) and integer or boolean arrays are valid indices"
     ]
    }
   ],
   "source": [
    "A[[1,2],[[2,3],1]]\n"
   ]
  },
  {
   "cell_type": "code",
   "execution_count": 2,
   "id": "96dccda0",
   "metadata": {},
   "outputs": [
    {
     "ename": "IndentationError",
     "evalue": "expected an indented block (Temp/ipykernel_17600/4039768555.py, line 2)",
     "output_type": "error",
     "traceback": [
      "\u001b[1;36m  File \u001b[1;32m\"C:\\Users\\DELL\\AppData\\Local\\Temp/ipykernel_17600/4039768555.py\"\u001b[1;36m, line \u001b[1;32m2\u001b[0m\n\u001b[1;33m    print(i)\u001b[0m\n\u001b[1;37m    ^\u001b[0m\n\u001b[1;31mIndentationError\u001b[0m\u001b[1;31m:\u001b[0m expected an indented block\n"
     ]
    }
   ],
   "source": [
    "n ="
   ]
  },
  {
   "cell_type": "code",
   "execution_count": null,
   "id": "49aec638",
   "metadata": {},
   "outputs": [],
   "source": []
  },
  {
   "cell_type": "code",
   "execution_count": 4,
   "id": "e1269592",
   "metadata": {
    "scrolled": true
   },
   "outputs": [
    {
     "name": "stdout",
     "output_type": "stream",
     "text": [
      "1\n",
      "2\n",
      "3\n",
      "4\n",
      "5\n",
      "6\n",
      "7\n",
      "8\n",
      "9\n",
      "10\n"
     ]
    }
   ],
   "source": [
    "# Q.1 print 10 natural number\n",
    "for i in range(1,11):\n",
    "    print(i)"
   ]
  },
  {
   "cell_type": "code",
   "execution_count": 2,
   "id": "fc425299",
   "metadata": {},
   "outputs": [
    {
     "name": "stdout",
     "output_type": "stream",
     "text": [
      "1\n",
      "2\n",
      "3\n",
      "4\n",
      "5\n",
      "6\n",
      "7\n",
      "8\n",
      "9\n",
      "10\n"
     ]
    }
   ],
   "source": [
    "i = 1\n",
    "while (i<= 10):\n",
    "    print(i)\n",
    "    i = i+1"
   ]
  },
  {
   "cell_type": "code",
   "execution_count": 10,
   "id": "5cefda81",
   "metadata": {},
   "outputs": [
    {
     "name": "stdout",
     "output_type": "stream",
     "text": [
      "please enter a number15\n",
      "1\n",
      "2\n",
      "3\n",
      "4\n",
      "5\n",
      "6\n",
      "7\n",
      "8\n",
      "9\n",
      "10\n",
      "11\n",
      "12\n",
      "13\n",
      "14\n",
      "15\n"
     ]
    }
   ],
   "source": [
    "# q.2 program print n natural number\n",
    "n = int(input(\"please enter a number\"))\n",
    "for i in range(1,n+1):\n",
    "    print(i)"
   ]
  },
  {
   "cell_type": "code",
   "execution_count": 4,
   "id": "898fd89c",
   "metadata": {},
   "outputs": [
    {
     "name": "stdout",
     "output_type": "stream",
     "text": [
      "Enter a number: 10\n",
      "1\n",
      "2\n",
      "3\n",
      "4\n",
      "5\n",
      "6\n",
      "7\n",
      "8\n",
      "9\n",
      "10\n"
     ]
    }
   ],
   "source": [
    "n = int(input(\"Enter a number: \"))\n",
    "i = 1\n",
    "while(i<= n):\n",
    "    print(i)\n",
    "    i = i+1"
   ]
  },
  {
   "cell_type": "code",
   "execution_count": 14,
   "id": "19a984a0",
   "metadata": {
    "scrolled": true
   },
   "outputs": [
    {
     "name": "stdout",
     "output_type": "stream",
     "text": [
      "4\n",
      "3\n",
      "2\n",
      "1\n",
      "0\n"
     ]
    }
   ],
   "source": [
    "# Q.3 print first n natrural number in reverse order\n",
    "for i in reversed(range(5)):\n",
    "    print(i)\n",
    "    "
   ]
  },
  {
   "cell_type": "code",
   "execution_count": 6,
   "id": "ae651dea",
   "metadata": {},
   "outputs": [
    {
     "name": "stdout",
     "output_type": "stream",
     "text": [
      "enter a number:10\n",
      "10\n",
      "9\n",
      "8\n",
      "7\n",
      "6\n",
      "5\n",
      "4\n",
      "3\n",
      "2\n",
      "1\n"
     ]
    }
   ],
   "source": [
    "n = int(input('enter a number:'))\n",
    "while (n>0):\n",
    "    print(n)\n",
    "    n = n-1"
   ]
  },
  {
   "cell_type": "code",
   "execution_count": 15,
   "id": "b7bb20e5",
   "metadata": {},
   "outputs": [
    {
     "name": "stdout",
     "output_type": "stream",
     "text": [
      "4\n",
      "3\n",
      "2\n",
      "1\n"
     ]
    }
   ],
   "source": [
    "list1 = [1, 2, 3, 4]\n",
    "for i in reversed(list1):\n",
    "    print(i)"
   ]
  },
  {
   "cell_type": "code",
   "execution_count": 17,
   "id": "7444f3c1",
   "metadata": {},
   "outputs": [
    {
     "name": "stdout",
     "output_type": "stream",
     "text": [
      "Enter any Number: 10\n",
      "List of Natural Numbers from 10 to 1 in Reverse Order: \n",
      "10  9  8  7  6  5  4  3  2  1  "
     ]
    }
   ],
   "source": [
    "number = int(input(\"Enter any Number: \"))\n",
    "i = number\n",
    "\n",
    "print(\"List of Natural Numbers from {0} to 1 in Reverse Order: \".format(number))\n",
    "\n",
    "while ( i >= 1):\n",
    "    print (i, end = '  ')\n",
    "    i = i - 1\n"
   ]
  },
  {
   "cell_type": "code",
   "execution_count": 19,
   "id": "b3a791b1",
   "metadata": {},
   "outputs": [
    {
     "name": "stdout",
     "output_type": "stream",
     "text": [
      "enter natural number: 6\n",
      "21.0\n"
     ]
    }
   ],
   "source": [
    "# print sum of 1st n natural number\n",
    "n = int(input('enter natural number: '))\n",
    "sum = n*(n+1)/2\n",
    "print(sum)"
   ]
  },
  {
   "cell_type": "code",
   "execution_count": 9,
   "id": "556fca65",
   "metadata": {},
   "outputs": [
    {
     "name": "stdout",
     "output_type": "stream",
     "text": [
      "enter a number10\n",
      "sum= 55\n"
     ]
    }
   ],
   "source": [
    "n = int(input('enter a number'))\n",
    "i = 1\n",
    "sum = 0\n",
    "while (i <= n):\n",
    "    sum = sum + i\n",
    "    i = i + 1\n",
    "print('sum=' ,sum)"
   ]
  },
  {
   "cell_type": "code",
   "execution_count": 12,
   "id": "e620db6a",
   "metadata": {},
   "outputs": [],
   "source": [
    "# print sum of square of n number\n",
    "i = i + 1"
   ]
  },
  {
   "cell_type": "code",
   "execution_count": 14,
   "id": "17a909d2",
   "metadata": {},
   "outputs": [
    {
     "ename": "SyntaxError",
     "evalue": "invalid syntax (Temp/ipykernel_11980/2748768980.py, line 4)",
     "output_type": "error",
     "traceback": [
      "\u001b[1;36m  File \u001b[1;32m\"C:\\Users\\DELL\\AppData\\Local\\Temp/ipykernel_11980/2748768980.py\"\u001b[1;36m, line \u001b[1;32m4\u001b[0m\n\u001b[1;33m    for in range(1,n+1):\u001b[0m\n\u001b[1;37m        ^\u001b[0m\n\u001b[1;31mSyntaxError\u001b[0m\u001b[1;31m:\u001b[0m invalid syntax\n"
     ]
    }
   ],
   "source": [
    "# print sum of square of n number\n",
    "n = int(input(\"enter a number :\"))\n",
    "sum = 0 \n",
    "for in range(1,n+1):\n",
    "    summ+= (i*i)\n",
    "print(\"sum of square=\",sum)"
   ]
  },
  {
   "cell_type": "code",
   "execution_count": 24,
   "id": "46ba75d9",
   "metadata": {},
   "outputs": [
    {
     "name": "stdout",
     "output_type": "stream",
     "text": [
      "enter a number: 3\n",
      "Sum of squares =  14\n"
     ]
    }
   ],
   "source": [
    "N = int(input('enter a number: '))\n",
    "sumVal = 0\n",
    "for i in range(1, N+1):\n",
    "    sumVal += (i*i)\n",
    "print(\"Sum of squares = \", sumVal)\n"
   ]
  },
  {
   "cell_type": "code",
   "execution_count": null,
   "id": "58586444",
   "metadata": {},
   "outputs": [],
   "source": []
  }
 ],
 "metadata": {
  "kernelspec": {
   "display_name": "Python 3 (ipykernel)",
   "language": "python",
   "name": "python3"
  },
  "language_info": {
   "codemirror_mode": {
    "name": "ipython",
    "version": 3
   },
   "file_extension": ".py",
   "mimetype": "text/x-python",
   "name": "python",
   "nbconvert_exporter": "python",
   "pygments_lexer": "ipython3",
   "version": "3.9.7"
  }
 },
 "nbformat": 4,
 "nbformat_minor": 5
}
